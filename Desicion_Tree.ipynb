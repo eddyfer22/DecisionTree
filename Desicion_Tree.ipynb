{
  "nbformat": 4,
  "nbformat_minor": 0,
  "metadata": {
    "colab": {
      "name": "Desicion-Tree.ipynb",
      "provenance": []
    },
    "kernelspec": {
      "name": "python3",
      "display_name": "Python 3"
    },
    "language_info": {
      "name": "python"
    }
  },
  "cells": [
    {
      "cell_type": "markdown",
      "metadata": {
        "id": "lcxksm9dsKls"
      },
      "source": [
        "# **Decision Tree**\n",
        "Tipo específico de diagrama de flujo que se utiliza para categorizar o realizar predicciones en base a las diferentes características del conjunto de datos.\n",
        "\n",
        "\n",
        "Importar los módulos necesarios para el desarrollo de un modelo de árbol de decisión."
      ]
    },
    {
      "cell_type": "code",
      "metadata": {
        "id": "b-tWDhgKsPbK"
      },
      "source": [
        "import pandas\n",
        "from sklearn import tree\n",
        "import pydotplus\n",
        "from sklearn.tree import DecisionTreeClassifier\n",
        "%matplotlib notebook\n",
        "import matplotlib.pyplot as plt\n",
        "import matplotlib.image as pltimg"
      ],
      "execution_count": 2,
      "outputs": []
    },
    {
      "cell_type": "markdown",
      "metadata": {
        "id": "NFeyo92tyDye"
      },
      "source": [
        "Se leen los datos del dataframe"
      ]
    },
    {
      "cell_type": "code",
      "metadata": {
        "colab": {
          "base_uri": "https://localhost:8080/"
        },
        "id": "MeDuStiIsvDN",
        "outputId": "2b867e7b-6fa0-4f53-a1c5-0f6cde2207be"
      },
      "source": [
        "df = pandas.read_csv('drug200.csv')\n",
        "print(df)"
      ],
      "execution_count": 10,
      "outputs": [
        {
          "output_type": "stream",
          "name": "stdout",
          "text": [
            "     Age Sex      BP Cholesterol  Na_to_K   Drug\n",
            "0     23   F    HIGH        HIGH   25.355  drugY\n",
            "1     47   M     LOW        HIGH   13.093  drugC\n",
            "2     47   M     LOW        HIGH   10.114  drugC\n",
            "3     28   F  NORMAL        HIGH    7.798  drugX\n",
            "4     61   F     LOW        HIGH   18.043  drugY\n",
            "..   ...  ..     ...         ...      ...    ...\n",
            "195   56   F     LOW        HIGH   11.567  drugC\n",
            "196   16   M     LOW        HIGH   12.006  drugC\n",
            "197   52   M  NORMAL        HIGH    9.894  drugX\n",
            "198   23   M  NORMAL      NORMAL   14.020  drugX\n",
            "199   40   F     LOW      NORMAL   11.349  drugX\n",
            "\n",
            "[200 rows x 6 columns]\n"
          ]
        }
      ]
    },
    {
      "cell_type": "markdown",
      "metadata": {
        "id": "hbtT1Ez5yBj3"
      },
      "source": [
        "Representar los valores alfanuméricos del dataset en numéricos mediante la técnica básica de remplazo de valores."
      ]
    },
    {
      "cell_type": "code",
      "metadata": {
        "colab": {
          "base_uri": "https://localhost:8080/"
        },
        "id": "_SEScQ3JyOT2",
        "outputId": "b86a3706-a2dd-4f75-e5ae-117890798f4e"
      },
      "source": [
        "d1 = {'F': 1, 'M': 2}\n",
        "df['Sex'] = df['Sex'].map(d1)\n",
        "d2 = {'HIGH': 1, 'NORMAL': 2, 'LOW':3}\n",
        "df['BP'] = df['BP'].map(d2)\n",
        "d3 = {'HIGH': 1, 'NORMAL': 2}\n",
        "df['Cholesterol'] = df['Cholesterol'].map(d3)\n",
        "d4 = {'drugA': 1, 'drugB': 2, 'drugC': 3, 'drugX': 4, 'drugY': 5}\n",
        "df['Drug'] = df['Drug'].map(d4)\n",
        "print(df)"
      ],
      "execution_count": 11,
      "outputs": [
        {
          "output_type": "stream",
          "name": "stdout",
          "text": [
            "     Age  Sex  BP  Cholesterol  Na_to_K  Drug\n",
            "0     23    1   1            1   25.355     5\n",
            "1     47    2   3            1   13.093     3\n",
            "2     47    2   3            1   10.114     3\n",
            "3     28    1   2            1    7.798     4\n",
            "4     61    1   3            1   18.043     5\n",
            "..   ...  ...  ..          ...      ...   ...\n",
            "195   56    1   3            1   11.567     3\n",
            "196   16    2   3            1   12.006     3\n",
            "197   52    2   2            1    9.894     4\n",
            "198   23    2   2            2   14.020     4\n",
            "199   40    1   3            2   11.349     4\n",
            "\n",
            "[200 rows x 6 columns]\n"
          ]
        }
      ]
    },
    {
      "cell_type": "markdown",
      "metadata": {
        "id": "_JbLB1R620KP"
      },
      "source": [
        "Se elige las características, es decir, columnas de las que intentamos predecir. Se deben elegir las columnas que aportarán más\n",
        "al objetivo del modelo."
      ]
    },
    {
      "cell_type": "code",
      "metadata": {
        "colab": {
          "base_uri": "https://localhost:8080/"
        },
        "id": "_Dk_sLGg3CPS",
        "outputId": "828799d7-ae1f-4521-a12e-64ecae4786fb"
      },
      "source": [
        "features = ['Age', 'Sex', 'BP', 'Cholesterol', 'Na_to_K']\n",
        "X = df[features]\n",
        "y = df['Drug']\n",
        "print(X, y, sep='\\n\\n')"
      ],
      "execution_count": 12,
      "outputs": [
        {
          "output_type": "stream",
          "name": "stdout",
          "text": [
            "     Age  Sex  BP  Cholesterol  Na_to_K\n",
            "0     23    1   1            1   25.355\n",
            "1     47    2   3            1   13.093\n",
            "2     47    2   3            1   10.114\n",
            "3     28    1   2            1    7.798\n",
            "4     61    1   3            1   18.043\n",
            "..   ...  ...  ..          ...      ...\n",
            "195   56    1   3            1   11.567\n",
            "196   16    2   3            1   12.006\n",
            "197   52    2   2            1    9.894\n",
            "198   23    2   2            2   14.020\n",
            "199   40    1   3            2   11.349\n",
            "\n",
            "[200 rows x 5 columns]\n",
            "\n",
            "0      5\n",
            "1      3\n",
            "2      3\n",
            "3      4\n",
            "4      5\n",
            "      ..\n",
            "195    3\n",
            "196    3\n",
            "197    4\n",
            "198    4\n",
            "199    4\n",
            "Name: Drug, Length: 200, dtype: int64\n"
          ]
        }
      ]
    },
    {
      "cell_type": "markdown",
      "metadata": {
        "id": "CE5zHEut4Xap"
      },
      "source": [
        "Crear un árbol de decisiones utilizando DecisionTreeClassifier6 de la librería sklearn. Mediante método “fit” construya un\n",
        "clasificador de árbol de decisión a partir del conjunto de entrenamiento (X, y)."
      ]
    },
    {
      "cell_type": "code",
      "metadata": {
        "id": "KqWSLp-V4lK8"
      },
      "source": [
        "dtree = DecisionTreeClassifier()\n",
        "dtree = dtree.fit(X, y)"
      ],
      "execution_count": 13,
      "outputs": []
    },
    {
      "cell_type": "markdown",
      "metadata": {
        "id": "u-vY9Sa_42Ql"
      },
      "source": [
        "Se *Guarda* el árbol de decisiones como una imagen utilizando pydotplus."
      ]
    },
    {
      "cell_type": "code",
      "metadata": {
        "colab": {
          "base_uri": "https://localhost:8080/"
        },
        "id": "2XUjwTwi4xvH",
        "outputId": "7e40d014-ed31-4a17-dd16-0004bc6c7d23"
      },
      "source": [
        "data = tree.export_graphviz(dtree, out_file=None, feature_names=features)\n",
        "graph = pydotplus.graph_from_dot_data(data)\n",
        "graph.write_png('drugdecisiontree.png')"
      ],
      "execution_count": 14,
      "outputs": [
        {
          "output_type": "execute_result",
          "data": {
            "text/plain": [
              "True"
            ]
          },
          "metadata": {},
          "execution_count": 14
        }
      ]
    },
    {
      "cell_type": "markdown",
      "metadata": {
        "id": "3mm1XLSq5J2r"
      },
      "source": [
        "Finalmente se obtiene y se visualiza el árbol de decisión utilizando la librería matplotlib"
      ]
    },
    {
      "cell_type": "code",
      "metadata": {
        "colab": {
          "base_uri": "https://localhost:8080/",
          "height": 257
        },
        "id": "ahPIXvg-5P-n",
        "outputId": "736f2f85-b8bf-44c1-fa53-87a434b0f5a4"
      },
      "source": [
        "img = pltimg.imread('drugdecisiontree.png')\n",
        "imgplot = plt.imshow(img)\n",
        "plt.show()"
      ],
      "execution_count": 15,
      "outputs": [
        {
          "output_type": "display_data",
          "data": {
            "image/png": "[encoded data removed]",
            "text/plain": [
              "<Figure size 432x288 with 1 Axes>"
            ]
          },
          "metadata": {
            "needs_background": "light"
          }
        }
      ]
    }
  ]
}